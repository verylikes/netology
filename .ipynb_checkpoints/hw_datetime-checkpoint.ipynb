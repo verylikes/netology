{
 "cells": [
  {
   "cell_type": "markdown",
   "metadata": {},
   "source": [
    "# Задание 1"
   ]
  },
  {
   "cell_type": "code",
   "execution_count": 12,
   "metadata": {},
   "outputs": [
    {
     "name": "stdout",
     "output_type": "stream",
     "text": [
      "2002-10-02 00:00:00\n",
      "2013-11-10 00:00:00\n",
      "1977-08-18 00:00:00\n"
     ]
    }
   ],
   "source": [
    "from datetime import datetime\n",
    "\n",
    "moscow_times = 'Wednesday, October 2, 2002'\n",
    "moscow_times_datetime = datetime.strptime(moscow_times, '%A, %B %d, %Y')\n",
    "print(moscow_times_datetime)\n",
    "\n",
    "guardian = 'Friday, 11.10.13'\n",
    "guardian_datetime = datetime.strptime(guardian, '%A, %m.%d.%y')\n",
    "print(guardian_datetime)\n",
    "\n",
    "daily_news = 'Thursday, 18 August 1977'\n",
    "daily_news_datetime = datetime.strptime(daily_news, '%A, %d %B %Y')\n",
    "print(daily_news_datetime)"
   ]
  },
  {
   "cell_type": "markdown",
   "metadata": {},
   "source": [
    "# Задание 2"
   ]
  },
  {
   "cell_type": "code",
   "execution_count": 1,
   "metadata": {},
   "outputs": [
    {
     "name": "stdout",
     "output_type": "stream",
     "text": [
      "2018-01-01\n",
      "2018-01-02\n",
      "2018-01-03\n",
      "2018-01-04\n",
      "2018-01-05\n",
      "2018-01-06\n",
      "2018-01-07\n",
      "2018-01-08\n",
      "2018-01-09\n",
      "2018-01-10\n"
     ]
    }
   ],
   "source": [
    "from datetime import datetime\n",
    "from datetime import timedelta\n",
    "\n",
    "start_date = '2018-01-01'\n",
    "end_date = '2018-01-10'\n",
    "\n",
    "def diff1():\n",
    "    \"\"\"которая возвращает список дней между датами start_date и end_date\"\"\"\n",
    "    \n",
    "start_date_dt = datetime.strptime(start_date, '%Y-%m-%d')\n",
    "end_date_dt = datetime.strptime(end_date, '%Y-%m-%d')\n",
    "\n",
    "while start_date_dt <= end_date_dt:\n",
    "    print(start_date_dt.strftime('%Y-%m-%d'))\n",
    "    \n",
    "    start_date_dt += timedelta(days=1)"
   ]
  },
  {
   "cell_type": "markdown",
   "metadata": {},
   "source": [
    "# Задание 3"
   ]
  },
  {
   "cell_type": "code",
   "execution_count": 24,
   "metadata": {},
   "outputs": [
    {
     "name": "stdout",
     "output_type": "stream",
     "text": [
      "Введите начальную дату в формате YYYY-MM-DD: 2001-01-01\n",
      "Введите конечную дату в формате YYYY-MM-DD: 2001-01-10\n",
      "['2001-01-01', '2001-01-02', '2001-01-03', '2001-01-04', '2001-01-05', '2001-01-06', '2001-01-07', '2001-01-08', '2001-01-09', '2001-01-10']\n"
     ]
    }
   ],
   "source": [
    "import datetime\n",
    "from datetime import timedelta\n",
    "\n",
    "def last_day_of_month(any_day):\n",
    "    next_month = any_day.replace(day=28) + datetime.timedelta(days=4)\n",
    "    return next_month - datetime.timedelta(days=next_month.day)\n",
    "\n",
    "def check_date(date):\n",
    "    year = int(date[0:3])\n",
    "    month = int(date[5:7])\n",
    "    day = int(date[8:10])\n",
    "    if month in range(1, 13) and day in range(1, last_day_of_month(datetime.datetime(year, month, 1)).day+1):\n",
    "        return True\n",
    "    else: return False\n",
    "\n",
    "def list_of_dates():\n",
    "    \n",
    "    start_date = input('Введите начальную дату в формате YYYY-MM-DD: ')\n",
    "    end_date = input('Введите конечную дату в формате YYYY-MM-DD: ')\n",
    "    \n",
    "    if check_date(start_date) is True and check_date(end_date) is True:\n",
    "        \n",
    "        start_date_dt = datetime.datetime.strptime(start_date, '%Y-%m-%d')\n",
    "        end_date_dt = datetime.datetime.strptime(end_date, '%Y-%m-%d')\n",
    "        \n",
    "        if start_date_dt < end_date_dt:\n",
    "            \n",
    "            current_dt = start_date_dt\n",
    "            list_of_dates = []\n",
    "\n",
    "            while current_dt <= end_date_dt:\n",
    "                list_of_dates.append(current_dt.strftime('%Y-%m-%d'))\n",
    "                current_dt += timedelta(days=1)\n",
    "\n",
    "            print(list_of_dates)\n",
    "        \n",
    "        else: print('Введённая начальная дата позже конечной')\n",
    "        \n",
    "    else: print('Введены некорректные даты')\n",
    "\n",
    "list_of_dates()"
   ]
  },
  {
   "cell_type": "markdown",
   "metadata": {},
   "source": []
  },
  {
   "cell_type": "code",
   "execution_count": null,
   "metadata": {},
   "outputs": [],
   "source": []
  },
  {
   "cell_type": "code",
   "execution_count": null,
   "metadata": {},
   "outputs": [],
   "source": []
  }
 ],
 "metadata": {
  "kernelspec": {
   "display_name": "Python 3",
   "language": "python",
   "name": "python3"
  },
  "language_info": {
   "codemirror_mode": {
    "name": "ipython",
    "version": 3
   },
   "file_extension": ".py",
   "mimetype": "text/x-python",
   "name": "python",
   "nbconvert_exporter": "python",
   "pygments_lexer": "ipython3",
   "version": "3.8.5"
  }
 },
 "nbformat": 4,
 "nbformat_minor": 4
}
