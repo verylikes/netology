{
 "cells": [
  {
   "cell_type": "markdown",
   "metadata": {},
   "source": [
    "## Домашнее задание к лекции \"Библиотека Pandas\"\n",
    "\n",
    "### Задание 1\n",
    "Скачайте с сайта https://grouplens.org/datasets/movielens/ датасет любого размера. Определите какому фильму было выставлено больше всего оценок 5.0."
   ]
  },
  {
   "cell_type": "code",
   "execution_count": 16,
   "metadata": {},
   "outputs": [],
   "source": [
    "import pandas as pd"
   ]
  },
  {
   "cell_type": "code",
   "execution_count": 24,
   "metadata": {},
   "outputs": [
    {
     "name": "stdout",
     "output_type": "stream",
     "text": [
      "CPU times: user 26.6 ms, sys: 12.1 ms, total: 38.7 ms\n",
      "Wall time: 43.6 ms\n"
     ]
    },
    {
     "data": {
      "text/html": [
       "<div>\n",
       "<style scoped>\n",
       "    .dataframe tbody tr th:only-of-type {\n",
       "        vertical-align: middle;\n",
       "    }\n",
       "\n",
       "    .dataframe tbody tr th {\n",
       "        vertical-align: top;\n",
       "    }\n",
       "\n",
       "    .dataframe thead th {\n",
       "        text-align: right;\n",
       "    }\n",
       "</style>\n",
       "<table border=\"1\" class=\"dataframe\">\n",
       "  <thead>\n",
       "    <tr style=\"text-align: right;\">\n",
       "      <th></th>\n",
       "      <th>userId</th>\n",
       "      <th>movieId</th>\n",
       "      <th>rating</th>\n",
       "      <th>timestamp</th>\n",
       "    </tr>\n",
       "  </thead>\n",
       "  <tbody>\n",
       "    <tr>\n",
       "      <th>0</th>\n",
       "      <td>1</td>\n",
       "      <td>1</td>\n",
       "      <td>4.0</td>\n",
       "      <td>964982703</td>\n",
       "    </tr>\n",
       "    <tr>\n",
       "      <th>1</th>\n",
       "      <td>1</td>\n",
       "      <td>3</td>\n",
       "      <td>4.0</td>\n",
       "      <td>964981247</td>\n",
       "    </tr>\n",
       "    <tr>\n",
       "      <th>2</th>\n",
       "      <td>1</td>\n",
       "      <td>6</td>\n",
       "      <td>4.0</td>\n",
       "      <td>964982224</td>\n",
       "    </tr>\n",
       "    <tr>\n",
       "      <th>3</th>\n",
       "      <td>1</td>\n",
       "      <td>47</td>\n",
       "      <td>5.0</td>\n",
       "      <td>964983815</td>\n",
       "    </tr>\n",
       "    <tr>\n",
       "      <th>4</th>\n",
       "      <td>1</td>\n",
       "      <td>50</td>\n",
       "      <td>5.0</td>\n",
       "      <td>964982931</td>\n",
       "    </tr>\n",
       "  </tbody>\n",
       "</table>\n",
       "</div>"
      ],
      "text/plain": [
       "   userId  movieId  rating  timestamp\n",
       "0       1        1     4.0  964982703\n",
       "1       1        3     4.0  964981247\n",
       "2       1        6     4.0  964982224\n",
       "3       1       47     5.0  964983815\n",
       "4       1       50     5.0  964982931"
      ]
     },
     "execution_count": 24,
     "metadata": {},
     "output_type": "execute_result"
    }
   ],
   "source": [
    "%%time\n",
    "data = pd.read_csv('/Users/eugenesagalakov/Documents/GitHub/pyda7-hw9/rating.csv')\n",
    "data.head()"
   ]
  },
  {
   "cell_type": "code",
   "execution_count": 25,
   "metadata": {},
   "outputs": [
    {
     "name": "stdout",
     "output_type": "stream",
     "text": [
      "<class 'pandas.core.frame.DataFrame'>\n",
      "RangeIndex: 100836 entries, 0 to 100835\n",
      "Data columns (total 4 columns):\n",
      " #   Column     Non-Null Count   Dtype  \n",
      "---  ------     --------------   -----  \n",
      " 0   userId     100836 non-null  int64  \n",
      " 1   movieId    100836 non-null  int64  \n",
      " 2   rating     100836 non-null  float64\n",
      " 3   timestamp  100836 non-null  int64  \n",
      "dtypes: float64(1), int64(3)\n",
      "memory usage: 3.1 MB\n"
     ]
    }
   ],
   "source": [
    "data.info()"
   ]
  },
  {
   "cell_type": "code",
   "execution_count": 26,
   "metadata": {},
   "outputs": [
    {
     "data": {
      "text/plain": [
       "318    153\n",
       "Name: movieId, dtype: int64"
      ]
     },
     "execution_count": 26,
     "metadata": {},
     "output_type": "execute_result"
    }
   ],
   "source": [
    "data[data['rating'] == 5.0]['movieId'].value_counts().head(1)"
   ]
  },
  {
   "cell_type": "markdown",
   "metadata": {},
   "source": [
    "### Задание 2\n",
    "По данным файла power.csv посчитайте суммарное потребление стран Прибалтики (Латвия, Литва и Эстония) категорий 4, 12 и 21 за период с 2005 по 2010 года. Не учитывайте в расчетах отрицательные значения quantity."
   ]
  },
  {
   "cell_type": "code",
   "execution_count": 27,
   "metadata": {},
   "outputs": [],
   "source": [
    "data = pd.read_csv('power.csv')"
   ]
  },
  {
   "cell_type": "code",
   "execution_count": 28,
   "metadata": {},
   "outputs": [
    {
     "name": "stdout",
     "output_type": "stream",
     "text": [
      "<class 'pandas.core.frame.DataFrame'>\n",
      "RangeIndex: 1189482 entries, 0 to 1189481\n",
      "Data columns (total 4 columns):\n",
      " #   Column    Non-Null Count    Dtype  \n",
      "---  ------    --------------    -----  \n",
      " 0   country   1189482 non-null  object \n",
      " 1   year      1189482 non-null  int64  \n",
      " 2   quantity  1189482 non-null  float64\n",
      " 3   category  1189482 non-null  int64  \n",
      "dtypes: float64(1), int64(2), object(1)\n",
      "memory usage: 36.3+ MB\n"
     ]
    }
   ],
   "source": [
    "data.info()"
   ]
  },
  {
   "cell_type": "code",
   "execution_count": 29,
   "metadata": {},
   "outputs": [
    {
     "data": {
      "text/plain": [
       "array(['Lithuania', 'Latvia', 'Estonia'], dtype=object)"
      ]
     },
     "execution_count": 29,
     "metadata": {},
     "output_type": "execute_result"
    }
   ],
   "source": [
    "# сначала выделяем страны в новый датафрейм\n",
    "filt_countries = data[((data['country'] == 'Lithuania') | (data['country'] == 'Latvia') | (data['country'] == 'Estonia'))]\n",
    "filt_countries['country'].unique()"
   ]
  },
  {
   "cell_type": "code",
   "execution_count": 30,
   "metadata": {},
   "outputs": [
    {
     "data": {
      "text/plain": [
       "array([ 4, 12, 21])"
      ]
     },
     "execution_count": 30,
     "metadata": {},
     "output_type": "execute_result"
    }
   ],
   "source": [
    "# потом выделяем категории\n",
    "filt_c2 = filt_countries[((filt_countries['category'] == 4) | (filt_countries['category'] == 12) | (filt_countries['category'] == 21))]\n",
    "filt_c2['category'].unique()"
   ]
  },
  {
   "cell_type": "code",
   "execution_count": 31,
   "metadata": {},
   "outputs": [
    {
     "data": {
      "text/html": [
       "<div>\n",
       "<style scoped>\n",
       "    .dataframe tbody tr th:only-of-type {\n",
       "        vertical-align: middle;\n",
       "    }\n",
       "\n",
       "    .dataframe tbody tr th {\n",
       "        vertical-align: top;\n",
       "    }\n",
       "\n",
       "    .dataframe thead th {\n",
       "        text-align: right;\n",
       "    }\n",
       "</style>\n",
       "<table border=\"1\" class=\"dataframe\">\n",
       "  <thead>\n",
       "    <tr style=\"text-align: right;\">\n",
       "      <th></th>\n",
       "      <th>quantity</th>\n",
       "    </tr>\n",
       "    <tr>\n",
       "      <th>country</th>\n",
       "      <th></th>\n",
       "    </tr>\n",
       "  </thead>\n",
       "  <tbody>\n",
       "    <tr>\n",
       "      <th>Estonia</th>\n",
       "      <td>63440.0</td>\n",
       "    </tr>\n",
       "    <tr>\n",
       "      <th>Latvia</th>\n",
       "      <td>54844.0</td>\n",
       "    </tr>\n",
       "    <tr>\n",
       "      <th>Lithuania</th>\n",
       "      <td>122296.0</td>\n",
       "    </tr>\n",
       "  </tbody>\n",
       "</table>\n",
       "</div>"
      ],
      "text/plain": [
       "           quantity\n",
       "country            \n",
       "Estonia     63440.0\n",
       "Latvia      54844.0\n",
       "Lithuania  122296.0"
      ]
     },
     "execution_count": 31,
     "metadata": {},
     "output_type": "execute_result"
    }
   ],
   "source": [
    "# выбираем только период с 2005 по 2010, убираем отрицательные quantity, делаем итоговую группировку\n",
    "filt_c2[(filt_c2['year'] > 2004) & (filt_c2['year'] < 2011) & (filt_c2['quantity'] > 0)][['country', 'quantity']].groupby(['country']).sum()"
   ]
  },
  {
   "cell_type": "markdown",
   "metadata": {},
   "source": [
    "# Задание 3\n",
    "Выберите страницу любого сайта с табличными данными. Импортируйте таблицы в pandas dataframe.\n",
    "Примеры страниц (необязательно брать именно эти):\n",
    "https://www.finanz.ru/valyuty/v-realnom-vremeni"
   ]
  },
  {
   "cell_type": "code",
   "execution_count": 58,
   "metadata": {},
   "outputs": [],
   "source": [
    "import pandas as pd"
   ]
  },
  {
   "cell_type": "code",
   "execution_count": 66,
   "metadata": {},
   "outputs": [
    {
     "data": {
      "text/plain": [
       "[    Код  Количество                 Название       RUB  Изменение\n",
       " 0   USD           1               Доллар США   75.1107    -0.6186\n",
       " 1   EUR           1                     Евро   89.8850    -1.0356\n",
       " 2   CNY           1           Китайский юань   11.5919    -0.1246\n",
       " 3   GBP           1          Фунт стерлингов  102.8941     0.0083\n",
       " 4   TJS          10        Таджикский сомони   65.9155    -0.5429\n",
       " 5   KZT         100      Казахстанский тенге   17.8754    -0.0767\n",
       " 6   TRY           1            Турецкая лира   10.5924     0.0068\n",
       " 7   PLN           1          Польский злотый   20.0087    -0.2144\n",
       " 8   UAH          10        Украинская гривна   27.0535    -0.0799\n",
       " 9   BYN           1        Белорусский рубль   28.5951    -0.1392\n",
       " 10  UZS       10000            Узбекский сум   71.8076    -0.0388\n",
       " 11  KGS         100           Киргизский сом   88.5508    -0.7285\n",
       " 12  AMD         100           Армянский драм   14.4319    -0.1077\n",
       " 13  JPY         100            Японская иена   71.2287    -0.7539\n",
       " 14  CHF           1        Швейцарский франк   83.2067    -0.7970\n",
       " 15  CZK          10            Чешская крона   34.8138    -0.2851\n",
       " 16  CAD           1         Канадский доллар   58.7032    -0.5390\n",
       " 17  AZN           1    Азербайджанский манат   44.2088    -0.3641\n",
       " 18  KRW        1000     Вон Республики Корея   66.8292    -0.8899\n",
       " 19  SEK          10           Шведская крона   88.8926    -0.9437\n",
       " 20  INR          10          Индийская рупия   10.3024    -0.0838\n",
       " 21  HUF         100        Венгерский форинт   25.3132    -0.2184\n",
       " 22  NOK          10         Норвежская крона   87.1465    -0.8188\n",
       " 23  AUD           1     Австралийский доллар   57.2193    -0.5773\n",
       " 24  BGN           1           Болгарский лев   45.9983    -0.4500\n",
       " 25  MDL          10           Молдавский лей   42.9818    -0.3540\n",
       " 26  DKK           1            Датская крона   12.0975    -0.1159\n",
       " 27  SGD           1      Сингапурский доллар   56.1491    -0.5727\n",
       " 28  RON           1            Румынский лей   18.4506    -0.1900\n",
       " 29  BRL           1         Бразильский реал   13.8402    -0.3050\n",
       " 30  TMT           1  Новый туркменский манат   21.4909    -0.1770\n",
       " 31  XDR           1                      СДР  107.6524    -1.0161\n",
       " 32  ZAR          10     Южноафриканский рэнд   50.3136    -0.3012]"
      ]
     },
     "execution_count": 66,
     "metadata": {},
     "output_type": "execute_result"
    }
   ],
   "source": [
    "pd.read_html('https://fortrader.org/currencyrates',encoding='utf-8')"
   ]
  },
  {
   "cell_type": "code",
   "execution_count": 67,
   "metadata": {},
   "outputs": [],
   "source": [
    "data_df = pd.read_html('https://fortrader.org/currencyrates', \n",
    "                        encoding='utf-8')[0]"
   ]
  },
  {
   "cell_type": "code",
   "execution_count": 68,
   "metadata": {},
   "outputs": [
    {
     "data": {
      "text/html": [
       "<div>\n",
       "<style scoped>\n",
       "    .dataframe tbody tr th:only-of-type {\n",
       "        vertical-align: middle;\n",
       "    }\n",
       "\n",
       "    .dataframe tbody tr th {\n",
       "        vertical-align: top;\n",
       "    }\n",
       "\n",
       "    .dataframe thead th {\n",
       "        text-align: right;\n",
       "    }\n",
       "</style>\n",
       "<table border=\"1\" class=\"dataframe\">\n",
       "  <thead>\n",
       "    <tr style=\"text-align: right;\">\n",
       "      <th></th>\n",
       "      <th>Код</th>\n",
       "      <th>Количество</th>\n",
       "      <th>Название</th>\n",
       "      <th>RUB</th>\n",
       "      <th>Изменение</th>\n",
       "    </tr>\n",
       "  </thead>\n",
       "  <tbody>\n",
       "    <tr>\n",
       "      <th>0</th>\n",
       "      <td>USD</td>\n",
       "      <td>1</td>\n",
       "      <td>Доллар США</td>\n",
       "      <td>75.1107</td>\n",
       "      <td>-0.6186</td>\n",
       "    </tr>\n",
       "    <tr>\n",
       "      <th>1</th>\n",
       "      <td>EUR</td>\n",
       "      <td>1</td>\n",
       "      <td>Евро</td>\n",
       "      <td>89.8850</td>\n",
       "      <td>-1.0356</td>\n",
       "    </tr>\n",
       "    <tr>\n",
       "      <th>2</th>\n",
       "      <td>CNY</td>\n",
       "      <td>1</td>\n",
       "      <td>Китайский юань</td>\n",
       "      <td>11.5919</td>\n",
       "      <td>-0.1246</td>\n",
       "    </tr>\n",
       "    <tr>\n",
       "      <th>3</th>\n",
       "      <td>GBP</td>\n",
       "      <td>1</td>\n",
       "      <td>Фунт стерлингов</td>\n",
       "      <td>102.8941</td>\n",
       "      <td>0.0083</td>\n",
       "    </tr>\n",
       "    <tr>\n",
       "      <th>4</th>\n",
       "      <td>TJS</td>\n",
       "      <td>10</td>\n",
       "      <td>Таджикский сомони</td>\n",
       "      <td>65.9155</td>\n",
       "      <td>-0.5429</td>\n",
       "    </tr>\n",
       "    <tr>\n",
       "      <th>5</th>\n",
       "      <td>KZT</td>\n",
       "      <td>100</td>\n",
       "      <td>Казахстанский тенге</td>\n",
       "      <td>17.8754</td>\n",
       "      <td>-0.0767</td>\n",
       "    </tr>\n",
       "    <tr>\n",
       "      <th>6</th>\n",
       "      <td>TRY</td>\n",
       "      <td>1</td>\n",
       "      <td>Турецкая лира</td>\n",
       "      <td>10.5924</td>\n",
       "      <td>0.0068</td>\n",
       "    </tr>\n",
       "  </tbody>\n",
       "</table>\n",
       "</div>"
      ],
      "text/plain": [
       "   Код  Количество             Название       RUB  Изменение\n",
       "0  USD           1           Доллар США   75.1107    -0.6186\n",
       "1  EUR           1                 Евро   89.8850    -1.0356\n",
       "2  CNY           1       Китайский юань   11.5919    -0.1246\n",
       "3  GBP           1      Фунт стерлингов  102.8941     0.0083\n",
       "4  TJS          10    Таджикский сомони   65.9155    -0.5429\n",
       "5  KZT         100  Казахстанский тенге   17.8754    -0.0767\n",
       "6  TRY           1        Турецкая лира   10.5924     0.0068"
      ]
     },
     "execution_count": 68,
     "metadata": {},
     "output_type": "execute_result"
    }
   ],
   "source": [
    "data_df.head(7)"
   ]
  },
  {
   "cell_type": "code",
   "execution_count": 69,
   "metadata": {},
   "outputs": [
    {
     "data": {
      "text/plain": [
       "pandas.core.frame.DataFrame"
      ]
     },
     "execution_count": 69,
     "metadata": {},
     "output_type": "execute_result"
    }
   ],
   "source": [
    "type(data_df)"
   ]
  },
  {
   "cell_type": "code",
   "execution_count": 70,
   "metadata": {},
   "outputs": [
    {
     "name": "stdout",
     "output_type": "stream",
     "text": [
      "<class 'pandas.core.frame.DataFrame'>\n",
      "RangeIndex: 33 entries, 0 to 32\n",
      "Data columns (total 5 columns):\n",
      " #   Column      Non-Null Count  Dtype  \n",
      "---  ------      --------------  -----  \n",
      " 0   Код         33 non-null     object \n",
      " 1   Количество  33 non-null     int64  \n",
      " 2   Название    33 non-null     object \n",
      " 3   RUB         33 non-null     float64\n",
      " 4   Изменение   33 non-null     float64\n",
      "dtypes: float64(2), int64(1), object(2)\n",
      "memory usage: 1.4+ KB\n"
     ]
    }
   ],
   "source": [
    "data_df.info()"
   ]
  },
  {
   "cell_type": "code",
   "execution_count": null,
   "metadata": {},
   "outputs": [],
   "source": []
  }
 ],
 "metadata": {
  "kernelspec": {
   "display_name": "Python 3",
   "language": "python",
   "name": "python3"
  },
  "language_info": {
   "codemirror_mode": {
    "name": "ipython",
    "version": 3
   },
   "file_extension": ".py",
   "mimetype": "text/x-python",
   "name": "python",
   "nbconvert_exporter": "python",
   "pygments_lexer": "ipython3",
   "version": "3.8.5"
  }
 },
 "nbformat": 4,
 "nbformat_minor": 2
}
