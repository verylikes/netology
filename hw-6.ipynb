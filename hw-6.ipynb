{
 "cells": [
  {
   "cell_type": "code",
   "execution_count": 4,
   "metadata": {},
   "outputs": [],
   "source": [
    "import json\n",
    "result = {}\n",
    "with open('purchase_log.txt',\"r\", encoding=\"utf-8\") as f:\n",
    "    next(f)\n",
    "    for line in f:\n",
    "        line = line.strip()\n",
    "        dict_ = json.loads(line)\n",
    "        result[dict_['user_id']] = dict_['category']        \n",
    "f.close()\n",
    "\n",
    "with open('visit_log.csv',\"r\",encoding=\"utf-8\") as vi:\n",
    "    next(vi)\n",
    "    with open('result.csv',\"w\") as fu:\n",
    "        for line in vi:\n",
    "            line_ok = line.strip().split(',')\n",
    "            category = result.get(line_ok[0])\n",
    "            if category != None:\n",
    "                line_ok.append(category)\n",
    "                new_line = ','.join(line_ok) + \"\\n\"\n",
    "                fu.write(new_line)\n",
    "vi.close()\n",
    "fu.close()"
   ]
  },
  {
   "cell_type": "code",
   "execution_count": null,
   "metadata": {},
   "outputs": [],
   "source": []
  }
 ],
 "metadata": {
  "kernelspec": {
   "display_name": "Python 3",
   "language": "python",
   "name": "python3"
  },
  "language_info": {
   "codemirror_mode": {
    "name": "ipython",
    "version": 3
   },
   "file_extension": ".py",
   "mimetype": "text/x-python",
   "name": "python",
   "nbconvert_exporter": "python",
   "pygments_lexer": "ipython3",
   "version": "3.8.5"
  }
 },
 "nbformat": 4,
 "nbformat_minor": 4
}
