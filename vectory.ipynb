{
 "cells": [
  {
   "cell_type": "markdown",
   "metadata": {},
   "source": [
    "## Домашнее задание \"Линейная алгебра. Векторы\""
   ]
  },
  {
   "cell_type": "code",
   "execution_count": 141,
   "metadata": {},
   "outputs": [],
   "source": [
    "import numpy as np\n",
    "import matplotlib.pyplot as plt\n",
    "import math\n",
    "import pandas as pd\n",
    "%matplotlib inline"
   ]
  },
  {
   "cell_type": "markdown",
   "metadata": {},
   "source": [
    "### Уровень 0:"
   ]
  },
  {
   "cell_type": "markdown",
   "metadata": {},
   "source": [
    "Даны вектора x=(1,1), y=(2, 0) и z = (0,2)  \n",
    "Надо:  \n",
    "Изобразить вектора на экране  \n",
    "Изобразить точку x + y + z  \n",
    "Найти угол между векторами x и y"
   ]
  },
  {
   "cell_type": "markdown",
   "metadata": {},
   "source": [
    "Зададим вектора с помощью np.array"
   ]
  },
  {
   "cell_type": "code",
   "execution_count": 56,
   "metadata": {},
   "outputs": [],
   "source": [
    "x = np.array((1,1))\n",
    "y = np.array((2,0))\n",
    "z = np.array((0,2))"
   ]
  },
  {
   "cell_type": "code",
   "execution_count": 76,
   "metadata": {},
   "outputs": [],
   "source": [
    "q = x + y + z"
   ]
  },
  {
   "cell_type": "code",
   "execution_count": 77,
   "metadata": {},
   "outputs": [
    {
     "data": {
      "text/plain": [
       "array([3, 3])"
      ]
     },
     "execution_count": 77,
     "metadata": {},
     "output_type": "execute_result"
    }
   ],
   "source": [
    "q"
   ]
  },
  {
   "cell_type": "markdown",
   "metadata": {},
   "source": [
    "##### Изобразим вектора x, y , z и точку x + y + z на экране"
   ]
  },
  {
   "cell_type": "code",
   "execution_count": 82,
   "metadata": {},
   "outputs": [
    {
     "data": {
      "text/plain": [
       "<matplotlib.collections.PathCollection at 0x2a78366b8c8>"
      ]
     },
     "execution_count": 82,
     "metadata": {},
     "output_type": "execute_result"
    },
    {
     "data": {
      "image/png": "[encoded data removed]",
      "text/plain": [
       "<Figure size 432x288 with 1 Axes>"
      ]
     },
     "metadata": {
      "needs_background": "light"
     },
     "output_type": "display_data"
    }
   ],
   "source": [
    "plt.plot([0, x[0]],[0, x[1]]) # вектор x\n",
    "plt.plot([0, y[0]],[0, y[1]]) # вектор y\n",
    "plt.plot([0, z[0]],[0, z[1]]) # вектор z\n",
    "plt.scatter(q[0], q[1], color='red', s=40, marker='o') # маркер суммарного вектора q"
   ]
  },
  {
   "cell_type": "markdown",
   "metadata": {},
   "source": [
    "##### Найдём угол между векторами x и y"
   ]
  },
  {
   "cell_type": "code",
   "execution_count": 176,
   "metadata": {},
   "outputs": [
    {
     "name": "stdout",
     "output_type": "stream",
     "text": [
      "Угол между векторами x и y равен 45.0 °\n"
     ]
    }
   ],
   "source": [
    "import math\n",
    "x = np.array((1,1))\n",
    "y = np.array((2,0))\n",
    "dotxy = np.dot(x,y)\n",
    "cosa = math.acos((dotxy)/(math.sqrt(x[0]**2+x[1]**2)*math.sqrt(y[0]**2+y[1]**2)))*(180.0/np.pi)\n",
    "deg = u'\\xb0'\n",
    "print('Угол между векторами x и y равен {0:.1f}'.format(cosa), deg)"
   ]
  }
 ],
 "metadata": {
  "kernelspec": {
   "display_name": "Python 3",
   "language": "python",
   "name": "python3"
  },
  "language_info": {
   "codemirror_mode": {
    "name": "ipython",
    "version": 3
   },
   "file_extension": ".py",
   "mimetype": "text/x-python",
   "name": "python",
   "nbconvert_exporter": "python",
   "pygments_lexer": "ipython3",
   "version": "3.8.5"
  }
 },
 "nbformat": 4,
 "nbformat_minor": 2
}
