{
 "cells": [
  {
   "cell_type": "code",
   "execution_count": 1,
   "metadata": {},
   "outputs": [
    {
     "name": "stdout",
     "output_type": "stream",
     "text": [
      "Фраза 2 длиннее фразы 1\n"
     ]
    }
   ],
   "source": [
    "\"\"\"Примеры работы программы:\n",
    "\n",
    "phrase_1 = 'Насколько проще было бы писать программы, если бы не заказчики’\n",
    "phrase_2 = '640Кб должно хватить для любых задач. Билл Гейтс (по легенде)'\n",
    "Результат:\n",
    "Фраза 1 длиннее фразы 2\"*/\"\"\"\n",
    "\n",
    "x=len(\"Наскесли бы не заказчики\") \n",
    "y = len(\"640Кб должно хватить для любых задач. Билл Гейтс (по легенде)\") \n",
    "if x>y :\n",
    "    print ('Фраза 1 длиннее фразы 2')\n",
    "else :\n",
    "    print ('Фраза 2 длиннее фразы 1')\n",
    "\n",
    "\n",
    "\n"
   ]
  },
  {
   "cell_type": "code",
   "execution_count": null,
   "metadata": {},
   "outputs": [],
   "source": []
  }
 ],
 "metadata": {
  "kernelspec": {
   "display_name": "Python 3",
   "language": "python",
   "name": "python3"
  },
  "language_info": {
   "codemirror_mode": {
    "name": "ipython",
    "version": 3
   },
   "file_extension": ".py",
   "mimetype": "text/x-python",
   "name": "python",
   "nbconvert_exporter": "python",
   "pygments_lexer": "ipython3",
   "version": "3.8.5"
  }
 },
 "nbformat": 4,
 "nbformat_minor": 4
}
