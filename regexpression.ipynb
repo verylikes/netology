{
 "cells": [
  {
   "cell_type": "markdown",
   "metadata": {},
   "source": [
    " # Домашнее задание к лекции \"Регулярные выражения\"\n",
    "Внимание! При реализации всех заданий необходимо использовать именно функционал регулярных выражений для обработки текста.\n",
    "Задание 1\n",
    "Напишите функцию, которая принимает на вход строку и проверяет является ли она валидным транспортным номером (1 буква, 3 цифры, 2 буквы, 2-3 цифры). Обратите внимание, что не все буквы кириллического алфавита используются в транспортных номерах.\n",
    "Если номер валиден, то функция должна возвращать отдельно номер и регион.\n",
    "Примеры работы программы:\n",
    "car_id = 'АВ222С96'\n",
    "Результат:  Номер АВ222С валиден. Регион: 96\n",
    "car_id = 'АБ22ВВ193'\n",
    "Результат:  Номер не валиден"
   ]
  },
  {
   "cell_type": "code",
   "execution_count": 6,
   "metadata": {},
   "outputs": [
    {
     "name": "stdout",
     "output_type": "stream",
     "text": [
      "Введите транспортный номер:с345ук34\n",
      "Номер не валиден\n"
     ]
    }
   ],
   "source": [
    "import re\n",
    "\n",
    "def valid_number():\n",
    "    car_number = input('Введите транспортный номер, после нажатия нажмите enter:')\n",
    "    car_number_pattern = r'([АВЕКМНОРСТУХ]\\d{3}[АВЕКМНОРСТУХ]{2})(\\d{2,3})'\n",
    "    car_number_result = re.match(car_number_pattern, car_number)\n",
    "    if car_number_result is None:\n",
    "        print('Номер не валиден')\n",
    "    else:\n",
    "        print('Номер {} валиден. Регион: {}'.format(car_number_result.group(1), car_number_result.group(2)))\n",
    "    \n",
    "valid_number()"
   ]
  },
  {
   "cell_type": "markdown",
   "metadata": {},
   "source": [
    "# Задание 2\n",
    "Напишите функцию, которая будет удалять все последовательные повторы слов из заданной строки при помощи регулярных выражений.\n",
    "Пример работы программы:\n",
    "some_string = 'Напишите функцию функцию, которая будет будет будет будет удалять все все все все последовательные повторы слов из из из из заданной строки строки при помощи регулярных выражений'\n",
    "Результат:  Напишите функцию, которая будет удалять все последовательные повторы слов из заданной строки при помощи регулярных выражений."
   ]
  },
  {
   "cell_type": "code",
   "execution_count": 4,
   "metadata": {},
   "outputs": [
    {
     "data": {
      "text/plain": [
       "'домашнее задание на тему регулярные выражения'"
      ]
     },
     "execution_count": 4,
     "metadata": {},
     "output_type": "execute_result"
    }
   ],
   "source": [
    "some_string = 'домашнее домашнее задание на тему регулярные регулярные выражения'\n",
    "some_string_result = re.sub(r'([а-яА-ЯёЁa-zA-Z]+)(\\s+\\1)', r'\\1', some_string)\n",
    "some_string_result"
   ]
  },
  {
   "cell_type": "markdown",
   "metadata": {},
   "source": [
    "# Задание 3\n",
    "Напишите функцию, которая будет возвращать акроним по переданной в нее строке со словами.\n",
    "Примеры работы программы:\n",
    "some_words = 'Информационные технологии'\n",
    "Результат:  ИТ\n",
    "some_words = 'Near Field Communication'\n",
    "Результат:  NFC"
   ]
  },
  {
   "cell_type": "code",
   "execution_count": 3,
   "metadata": {},
   "outputs": [
    {
     "name": "stdout",
     "output_type": "stream",
     "text": [
      "Введите текст: Информационные технологии\n",
      "ИТ\n"
     ]
    }
   ],
   "source": [
    "def words_accronim():\n",
    "    some_words = input('Введите текст, после нажатия нажмите enter: ')\n",
    "    letters_list = re.findall(r'\\b\\w', some_words)\n",
    "    acronim = ''.join(letters_list).upper()\n",
    "    return print(acronim)\n",
    "\n",
    "words_accronim()"
   ]
  },
  {
   "cell_type": "markdown",
   "metadata": {},
   "source": [
    "\n",
    "# Задание 4\n",
    "Напишите функцию, которая будет принимать на вход список email-адресов и выводить их распределение по доменным зонам.\n",
    "Пример работы программы:\n",
    "emails = ['test@gmail.com, xyz@test.in, test@ya.ru, xyz@mail.ru, xyz@ya.ru', xyz@gmail.com]\n",
    "Результат:\n",
    "gmail.com: 2\n",
    "test.in: 1 \n",
    "ya.ru: 2 \n",
    "mail.ru: 1"
   ]
  },
  {
   "cell_type": "code",
   "execution_count": 9,
   "metadata": {},
   "outputs": [],
   "source": [
    "emails = ['test@gmail.com, xyz@test.in, test@ya.ru, xyz@mail.ru, xyz@ya.ru, xyz@gmail.com']"
   ]
  },
  {
   "cell_type": "code",
   "execution_count": 10,
   "metadata": {},
   "outputs": [
    {
     "data": {
      "text/plain": [
       "{'gmail.com': 2, 'test.in': 1, 'ya.ru': 2, 'mail.ru': 1}"
      ]
     },
     "execution_count": 10,
     "metadata": {},
     "output_type": "execute_result"
    }
   ],
   "source": [
    "mail_dict = {}\n",
    "mail_pattern = r'(?<=\\@)\\w+\\.\\w+'\n",
    "mail_result = re.findall(mail_pattern, str(emails))\n",
    "for mail in mail_result:\n",
    "    if mail not in mail_dict:\n",
    "        mail_dict[mail] = 1\n",
    "    else:\n",
    "        mail_dict[mail] += 1\n",
    "mail_dict"
   ]
  },
  {
   "cell_type": "code",
   "execution_count": null,
   "metadata": {},
   "outputs": [],
   "source": []
  }
 ],
 "metadata": {
  "kernelspec": {
   "display_name": "Python 3",
   "language": "python",
   "name": "python3"
  },
  "language_info": {
   "codemirror_mode": {
    "name": "ipython",
    "version": 3
   },
   "file_extension": ".py",
   "mimetype": "text/x-python",
   "name": "python",
   "nbconvert_exporter": "python",
   "pygments_lexer": "ipython3",
   "version": "3.8.5"
  }
 },
 "nbformat": 4,
 "nbformat_minor": 4
}
